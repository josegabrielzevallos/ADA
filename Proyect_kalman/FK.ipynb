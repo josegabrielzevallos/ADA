{
 "cells": [
  {
   "cell_type": "code",
   "execution_count": 35,
   "metadata": {},
   "outputs": [],
   "source": [
    "%matplotlib inline \n",
    "%config InlineBackend.figure_format = 'retina'\n",
    "\n",
    "import numpy as np \n",
    "from math import sin, cos\n",
    "import matplotlib.pyplot as plt\n",
    "from mpl_toolkits.mplot3d import Axes3D\n",
    "import matplotlib.pylab as pylab\n",
    "import time \n"
   ]
  },
  {
   "cell_type": "code",
   "execution_count": 36,
   "metadata": {},
   "outputs": [],
   "source": [
    "t_min = 0 # Tiempo de inicio de lanzamiento\n",
    "t_MAX = 7 # Tiempo final\n",
    "delta_t = 0.01 # Paso de tiempo\n",
    "pos0 = 5 # Posicion en x donde empieza lanzamiento\n",
    "vel0 = 20 # Velocidad inicial del lanzamiento"
   ]
  },
  {
   "cell_type": "code",
   "execution_count": 41,
   "metadata": {},
   "outputs": [
    {
     "ename": "TypeError",
     "evalue": "'float' object cannot be interpreted as an integer",
     "output_type": "error",
     "traceback": [
      "\u001b[1;31m---------------------------------------------------------------------------\u001b[0m",
      "\u001b[1;31mTypeError\u001b[0m                                 Traceback (most recent call last)",
      "\u001b[1;32m<ipython-input-41-3dfa716a3282>\u001b[0m in \u001b[0;36m<module>\u001b[1;34m\u001b[0m\n\u001b[0;32m     29\u001b[0m \u001b[1;33m\u001b[0m\u001b[0m\n\u001b[0;32m     30\u001b[0m \u001b[1;33m\u001b[0m\u001b[0m\n\u001b[1;32m---> 31\u001b[1;33m \u001b[1;33m[\u001b[0m\u001b[0mt\u001b[0m\u001b[1;33m,\u001b[0m\u001b[0mpos\u001b[0m\u001b[1;33m,\u001b[0m\u001b[0mvel\u001b[0m\u001b[1;33m]\u001b[0m \u001b[1;33m=\u001b[0m \u001b[0msimula\u001b[0m\u001b[1;33m(\u001b[0m\u001b[0mt_min\u001b[0m\u001b[1;33m,\u001b[0m\u001b[0mt_MAX\u001b[0m\u001b[1;33m,\u001b[0m\u001b[0mdelta_t\u001b[0m\u001b[1;33m,\u001b[0m\u001b[0mpos0\u001b[0m\u001b[1;33m,\u001b[0m\u001b[0mvel0\u001b[0m\u001b[1;33m)\u001b[0m\u001b[1;33m\u001b[0m\u001b[1;33m\u001b[0m\u001b[0m\n\u001b[0m",
      "\u001b[1;32m<ipython-input-41-3dfa716a3282>\u001b[0m in \u001b[0;36msimula\u001b[1;34m(t_min, t_max, delta_t, pos0, vel0)\u001b[0m\n\u001b[0;32m      2\u001b[0m \u001b[1;33m\u001b[0m\u001b[0m\n\u001b[0;32m      3\u001b[0m \u001b[1;32mdef\u001b[0m \u001b[0msimula\u001b[0m\u001b[1;33m(\u001b[0m\u001b[0mt_min\u001b[0m\u001b[1;33m,\u001b[0m\u001b[0mt_max\u001b[0m\u001b[1;33m,\u001b[0m \u001b[0mdelta_t\u001b[0m\u001b[1;33m,\u001b[0m \u001b[0mpos0\u001b[0m\u001b[1;33m,\u001b[0m \u001b[0mvel0\u001b[0m\u001b[1;33m)\u001b[0m\u001b[1;33m:\u001b[0m\u001b[1;33m\u001b[0m\u001b[1;33m\u001b[0m\u001b[0m\n\u001b[1;32m----> 4\u001b[1;33m     \u001b[0mt\u001b[0m \u001b[1;33m=\u001b[0m \u001b[0mnp\u001b[0m\u001b[1;33m.\u001b[0m\u001b[0mlinspace\u001b[0m\u001b[1;33m(\u001b[0m\u001b[0mt_min\u001b[0m\u001b[1;33m,\u001b[0m \u001b[0mt_max\u001b[0m\u001b[1;33m,\u001b[0m \u001b[1;33m(\u001b[0m\u001b[0mt_max\u001b[0m \u001b[1;33m-\u001b[0m \u001b[0mt_min\u001b[0m\u001b[1;33m)\u001b[0m\u001b[1;33m/\u001b[0m\u001b[0mdelta_t\u001b[0m\u001b[1;33m)\u001b[0m\u001b[1;33m\u001b[0m\u001b[1;33m\u001b[0m\u001b[0m\n\u001b[0m\u001b[0;32m      5\u001b[0m     \u001b[0mpos\u001b[0m \u001b[1;33m=\u001b[0m \u001b[1;36m0\u001b[0m\u001b[1;33m*\u001b[0m\u001b[0mt\u001b[0m\u001b[1;33m\u001b[0m\u001b[1;33m\u001b[0m\u001b[0m\n\u001b[0;32m      6\u001b[0m     \u001b[0mvel\u001b[0m \u001b[1;33m=\u001b[0m \u001b[1;36m0\u001b[0m\u001b[1;33m*\u001b[0m\u001b[0mt\u001b[0m\u001b[1;33m\u001b[0m\u001b[1;33m\u001b[0m\u001b[0m\n",
      "\u001b[1;32m<__array_function__ internals>\u001b[0m in \u001b[0;36mlinspace\u001b[1;34m(*args, **kwargs)\u001b[0m\n",
      "\u001b[1;32m~\\miniconda3a\\lib\\site-packages\\numpy\\core\\function_base.py\u001b[0m in \u001b[0;36mlinspace\u001b[1;34m(start, stop, num, endpoint, retstep, dtype, axis)\u001b[0m\n\u001b[0;32m    111\u001b[0m \u001b[1;33m\u001b[0m\u001b[0m\n\u001b[0;32m    112\u001b[0m     \"\"\"\n\u001b[1;32m--> 113\u001b[1;33m     \u001b[0mnum\u001b[0m \u001b[1;33m=\u001b[0m \u001b[0moperator\u001b[0m\u001b[1;33m.\u001b[0m\u001b[0mindex\u001b[0m\u001b[1;33m(\u001b[0m\u001b[0mnum\u001b[0m\u001b[1;33m)\u001b[0m\u001b[1;33m\u001b[0m\u001b[1;33m\u001b[0m\u001b[0m\n\u001b[0m\u001b[0;32m    114\u001b[0m     \u001b[1;32mif\u001b[0m \u001b[0mnum\u001b[0m \u001b[1;33m<\u001b[0m \u001b[1;36m0\u001b[0m\u001b[1;33m:\u001b[0m\u001b[1;33m\u001b[0m\u001b[1;33m\u001b[0m\u001b[0m\n\u001b[0;32m    115\u001b[0m         \u001b[1;32mraise\u001b[0m \u001b[0mValueError\u001b[0m\u001b[1;33m(\u001b[0m\u001b[1;34m\"Number of samples, %s, must be non-negative.\"\u001b[0m \u001b[1;33m%\u001b[0m \u001b[0mnum\u001b[0m\u001b[1;33m)\u001b[0m\u001b[1;33m\u001b[0m\u001b[1;33m\u001b[0m\u001b[0m\n",
      "\u001b[1;31mTypeError\u001b[0m: 'float' object cannot be interpreted as an integer"
     ]
    }
   ],
   "source": [
    "#Funcion de tiro parabolico\n",
    "\n",
    "def simula(t_min,t_max, delta_t, pos0, vel0):\n",
    "    t = np.linspace(t_min, t_max, (t_max - t_min)/delta_t)\n",
    "    pos = 0*t\n",
    "    vel = 0*t\n",
    "    pos[0] = pos0\n",
    "    vel[0] = vel0\n",
    "    k = 10\n",
    "    m = 10\n",
    "    b = 10 \n",
    "    F = 0\n",
    "    flag = False\n",
    "    for i in range(1,t.size):\n",
    "        if(flag==True):\n",
    "            F = 1000 \n",
    "        else:\n",
    "            #F = 0\n",
    "            accel= -9.8 \n",
    "            #accel = -9.8 -(b/m)*vel[i-1]-(k/m)*(pos[i-1]-100) + F\n",
    "            vel[i] = vel[i-1] + accel*delta_t # Velocidad con erespecto al tiempo\n",
    "            pos[i] = pos[i-1] + vel[i]*delta_t # Posicion con respecto al tiempo  \n",
    "            if (pos[i]<=0):\n",
    "                flag =True \n",
    "            i = i+1\n",
    "            \n",
    "            \n",
    "    return [t,pos,vel]\n",
    "\n",
    " \n",
    "[t,pos,vel] = simula(t_min,t_MAX,delta_t,pos0,vel0)"
   ]
  },
  {
   "cell_type": "code",
   "execution_count": 24,
   "metadata": {},
   "outputs": [
    {
     "ename": "NameError",
     "evalue": "name 'pos' is not defined",
     "output_type": "error",
     "traceback": [
      "\u001b[1;31m---------------------------------------------------------------------------\u001b[0m",
      "\u001b[1;31mNameError\u001b[0m                                 Traceback (most recent call last)",
      "\u001b[1;32m<ipython-input-24-e1714d3adb7c>\u001b[0m in \u001b[0;36m<module>\u001b[1;34m\u001b[0m\n\u001b[0;32m      1\u001b[0m \u001b[0mdEs\u001b[0m\u001b[1;33m=\u001b[0m \u001b[1;36m1\u001b[0m \u001b[1;31m#deviacion estandar del sensor\u001b[0m\u001b[1;33m\u001b[0m\u001b[1;33m\u001b[0m\u001b[0m\n\u001b[1;32m----> 2\u001b[1;33m \u001b[0mruido\u001b[0m \u001b[1;33m=\u001b[0m \u001b[0mnp\u001b[0m\u001b[1;33m.\u001b[0m\u001b[0mrandom\u001b[0m\u001b[1;33m.\u001b[0m\u001b[0mnormal\u001b[0m\u001b[1;33m(\u001b[0m\u001b[1;36m0\u001b[0m\u001b[1;33m,\u001b[0m\u001b[0mdEs\u001b[0m\u001b[1;33m,\u001b[0m \u001b[0mpos\u001b[0m\u001b[1;33m.\u001b[0m\u001b[0msize\u001b[0m\u001b[1;33m)\u001b[0m\u001b[1;33m\u001b[0m\u001b[1;33m\u001b[0m\u001b[0m\n\u001b[0m\u001b[0;32m      3\u001b[0m \u001b[1;33m\u001b[0m\u001b[0m\n\u001b[0;32m      4\u001b[0m \u001b[0mpos_medida\u001b[0m \u001b[1;33m=\u001b[0m \u001b[0mpos\u001b[0m\u001b[1;33m+\u001b[0m\u001b[0mruido\u001b[0m \u001b[1;31m#medicion del sensor\u001b[0m\u001b[1;33m\u001b[0m\u001b[1;33m\u001b[0m\u001b[0m\n",
      "\u001b[1;31mNameError\u001b[0m: name 'pos' is not defined"
     ]
    }
   ],
   "source": [
    "dEs= 1 #deviacion estandar del sensor\n",
    "ruido = np.random.normal(0,dEs, pos.size)\n",
    "\n",
    "pos_medida = pos+ruido #medicion del sensor\n"
   ]
  },
  {
   "cell_type": "code",
   "execution_count": 25,
   "metadata": {},
   "outputs": [
    {
     "ename": "NameError",
     "evalue": "name 't' is not defined",
     "output_type": "error",
     "traceback": [
      "\u001b[1;31m---------------------------------------------------------------------------\u001b[0m",
      "\u001b[1;31mNameError\u001b[0m                                 Traceback (most recent call last)",
      "\u001b[1;32m<ipython-input-25-53e0f3c93954>\u001b[0m in \u001b[0;36m<module>\u001b[1;34m\u001b[0m\n\u001b[0;32m      1\u001b[0m \u001b[0mfig\u001b[0m\u001b[1;33m,\u001b[0m \u001b[0max\u001b[0m \u001b[1;33m=\u001b[0m \u001b[0mplt\u001b[0m\u001b[1;33m.\u001b[0m\u001b[0msubplots\u001b[0m\u001b[1;33m(\u001b[0m\u001b[1;33m)\u001b[0m\u001b[1;33m\u001b[0m\u001b[1;33m\u001b[0m\u001b[0m\n\u001b[0;32m      2\u001b[0m \u001b[1;33m\u001b[0m\u001b[0m\n\u001b[1;32m----> 3\u001b[1;33m \u001b[0max\u001b[0m\u001b[1;33m.\u001b[0m\u001b[0mplot\u001b[0m\u001b[1;33m(\u001b[0m\u001b[0mt\u001b[0m\u001b[1;33m,\u001b[0m\u001b[0mpos\u001b[0m\u001b[1;33m,\u001b[0m\u001b[1;34m'g+'\u001b[0m\u001b[1;33m)\u001b[0m \u001b[1;31m#funcion de tiro parabolico\u001b[0m\u001b[1;33m\u001b[0m\u001b[1;33m\u001b[0m\u001b[0m\n\u001b[0m\u001b[0;32m      4\u001b[0m \u001b[0max\u001b[0m\u001b[1;33m.\u001b[0m\u001b[0mplot\u001b[0m\u001b[1;33m(\u001b[0m\u001b[0mt\u001b[0m\u001b[1;33m,\u001b[0m\u001b[0mpos_medida\u001b[0m\u001b[1;33m,\u001b[0m\u001b[1;34m'm'\u001b[0m\u001b[1;33m)\u001b[0m \u001b[1;31m# medicion del sensor\u001b[0m\u001b[1;33m\u001b[0m\u001b[1;33m\u001b[0m\u001b[0m\n\u001b[0;32m      5\u001b[0m \u001b[1;33m\u001b[0m\u001b[0m\n",
      "\u001b[1;31mNameError\u001b[0m: name 't' is not defined"
     ]
    },
    {
     "data": {
      "image/png": "[encoded data removed]",
      "text/plain": [
       "<Figure size 432x288 with 1 Axes>"
      ]
     },
     "metadata": {
      "image/png": {
       "height": 252,
       "width": 380
      },
      "needs_background": "light"
     },
     "output_type": "display_data"
    }
   ],
   "source": [
    "fig, ax = plt.subplots()\n",
    "\n",
    "ax.plot(t,pos,'g+') #funcion de tiro parabolico\n",
    "ax.plot(t,pos_medida,'m') # medicion del sensor\n",
    "\n",
    "ax.grid(True)\n",
    "ax.legend( ('Parabolic shot','Medicion del sensor'), loc = 'upper right')\n",
    "plt.xlabel(\"Posicion en metros\", fontsize = 15)\n",
    "plt.ylabel(\"Tiempo en segundos\", fontsize = 15)\n",
    "plt.show()"
   ]
  },
  {
   "cell_type": "code",
   "execution_count": 26,
   "metadata": {},
   "outputs": [],
   "source": [
    "#Funcion de Kalman\n",
    "\n",
    "class KF:\n",
    "    def __init__(self,\n",
    "                 sensor_sigma,             # Sensor noise\n",
    "                 velocity_sigma,           # Velocity uncertainty\n",
    "                 position_sigma,           # Position uncertainty\n",
    "                 dt                        # dt time between samples \n",
    "                ):\n",
    "        \n",
    "        # Sensor measurement covariance\n",
    "        self.r_t = np.array([[sensor_sigma**2]])\n",
    "        \n",
    "        # Motion model noise for velocity and position\n",
    "        self.q_t = np.array([[velocity_sigma**2,0.0],\n",
    "                             [0.0,position_sigma**2]]) \n",
    "        self.dt = dt\n",
    "        \n",
    "        self.mu = np.array([0.0])\n",
    "        self.sigma = np.array([0.0])\n",
    "        \n",
    "        self.mu_bar = self.mu\n",
    "        self.sigma_bar = self.sigma\n",
    "\n",
    "    @property\n",
    "    def a(self):\n",
    "        return np.array([[1.0, self.dt],\n",
    "                         [0, 1.0]])\n",
    "\n",
    "    @property\n",
    "    def b(self):\n",
    "        return np.array([[self.dt],\n",
    "                         [0.0]])\n",
    "\n",
    "    def g(self, \n",
    "          previous_mu, # Previous mu\n",
    "          u            # Control input \\ddot{z}\n",
    "          ):\n",
    "        '''Generates the transition function for the height. '''\n",
    "        # TODO: return the g matrix using A and B matrixes \n",
    "        return np.matmul(self.a, previous_mu) + self.b * u\n",
    "\n",
    "    def g_prime(self):\n",
    "        '''The derivative of the transition function.'''\n",
    "        # TODO: return the derivative of the g matrix\n",
    "        return np.array([[1.0, self.dt],\n",
    "                         [0.0, 1.0]]) #A predice posicion\n",
    "\n",
    "\n",
    "    def initial_values(self, \n",
    "                       mu_0, \n",
    "                       sigma_0):\n",
    "\n",
    "        '''Setting initial values for the mu and sigma of the KF'''\n",
    "\n",
    "        self.mu = mu_0\n",
    "        self.sigma = sigma_0\n",
    "\n",
    "\n",
    "\n",
    "    def predict(self, \n",
    "                u             # Control input \n",
    "               ):\n",
    "\n",
    "        '''Prediction step of the KF filter '''\n",
    "\n",
    "        # TODO: Follow the prediction steps outlined in theoretical part of the lesson and implement the next variables. \n",
    "        # mu_bar = None\n",
    "        # g_now  = None\n",
    "        # sigma_bar = None\n",
    "\n",
    "        mu_bar = self.g(self.mu, u)\n",
    "        g_now  = self.g_prime()\n",
    "        sigma_bar = np.matmul(g_now, np.matmul(self.sigma, np.transpose(g_now))) + self.q_t\n",
    "\n",
    "        self.mu_bar = mu_bar\n",
    "        self.sigma_bar = sigma_bar\n",
    "        return mu_bar, sigma_bar\n",
    "    \n",
    "    def h_prime(self):\n",
    "        return np.array([[1.0, 0.0]])\n",
    "    \n",
    "    def h(self,mu):\n",
    "        return np.matmul(np.array([[1.0, 0.0]]), mu) \n",
    "\n",
    "    def update(self, z):\n",
    "    \n",
    "        # TODO: Follow the update step outlined in theoretical part of the lesson and implement the next variables. \n",
    "        # H = None \n",
    "        # K = None\n",
    "    \n",
    "        # mu = None\n",
    "        # sigma = None\n",
    "    \n",
    "     \n",
    "        H = self.h_prime()\n",
    "        S = np.matmul(np.matmul(H, self.sigma_bar), np.transpose(H)) + self.r_t     \n",
    "        K = np.matmul(np.matmul(self.sigma_bar, np.transpose(H)), np.linalg.inv(S))\n",
    "    \n",
    "        mu = self.mu_bar + np.matmul(K, (z - self.h(self.mu_bar)))\n",
    "        sigma = np.matmul((np.identity(2) - np.matmul(K, H)), self.sigma_bar)\n",
    "    \n",
    "        self.mu = mu\n",
    "        self.sigma = sigma\n",
    "    \n",
    "        return mu, sigma"
   ]
  },
  {
   "cell_type": "code",
   "execution_count": 27,
   "metadata": {},
   "outputs": [],
   "source": [
    "z = 5                         # Initial position\n",
    "v = 0.0                         # Initial velocity\n",
    "dt = 0.01                        # The time difference between measures\n",
    "sensor_error = 1              # Sensor sigma\n",
    "velocity_sigma = 0.1            # Velocity uncertaintymatriz de covarianza\n",
    "position_sigma = 0.1            # Position uncertainty\n",
    "\n",
    "\n",
    "mu_0 = np.array([[z],\n",
    "                 [v]]) \n",
    "\n",
    "sigma_0 = np.array([[velocity_sigma**2, 0.0],\n",
    "                    [0.0, position_sigma**2]])\n",
    "\n",
    "u = np.array([[0.0],\n",
    "              [0.0]])     # no control input is given \\ddot{z} = 0"
   ]
  },
  {
   "cell_type": "code",
   "execution_count": 28,
   "metadata": {},
   "outputs": [
    {
     "ename": "NameError",
     "evalue": "name 't' is not defined",
     "output_type": "error",
     "traceback": [
      "\u001b[1;31m---------------------------------------------------------------------------\u001b[0m",
      "\u001b[1;31mNameError\u001b[0m                                 Traceback (most recent call last)",
      "\u001b[1;32m<ipython-input-28-de05173b13b6>\u001b[0m in \u001b[0;36m<module>\u001b[1;34m\u001b[0m\n\u001b[0;32m     15\u001b[0m \u001b[0mvel_mu\u001b[0m\u001b[1;33m.\u001b[0m\u001b[0mappend\u001b[0m\u001b[1;33m(\u001b[0m\u001b[0mmu_0\u001b[0m\u001b[1;33m[\u001b[0m\u001b[1;36m1\u001b[0m\u001b[1;33m]\u001b[0m\u001b[1;33m)\u001b[0m\u001b[1;33m\u001b[0m\u001b[1;33m\u001b[0m\u001b[0m\n\u001b[0;32m     16\u001b[0m \u001b[1;33m\u001b[0m\u001b[0m\n\u001b[1;32m---> 17\u001b[1;33m \u001b[1;32mfor\u001b[0m \u001b[0mi\u001b[0m \u001b[1;32min\u001b[0m \u001b[0mrange\u001b[0m\u001b[1;33m(\u001b[0m\u001b[1;36m1\u001b[0m\u001b[1;33m,\u001b[0m\u001b[0mt\u001b[0m\u001b[1;33m.\u001b[0m\u001b[0msize\u001b[0m\u001b[1;33m)\u001b[0m\u001b[1;33m:\u001b[0m\u001b[1;33m\u001b[0m\u001b[1;33m\u001b[0m\u001b[0m\n\u001b[0m\u001b[0;32m     18\u001b[0m     \u001b[0mmu_bar\u001b[0m\u001b[1;33m,\u001b[0m \u001b[0msigma_bar\u001b[0m \u001b[1;33m=\u001b[0m \u001b[0mMYKF\u001b[0m\u001b[1;33m.\u001b[0m\u001b[0mpredict\u001b[0m\u001b[1;33m(\u001b[0m\u001b[0mu\u001b[0m\u001b[1;33m)\u001b[0m\u001b[1;33m\u001b[0m\u001b[1;33m\u001b[0m\u001b[0m\n\u001b[0;32m     19\u001b[0m     \u001b[0mmu\u001b[0m\u001b[1;33m,\u001b[0m \u001b[0msigma\u001b[0m\u001b[1;33m=\u001b[0m \u001b[0mMYKF\u001b[0m\u001b[1;33m.\u001b[0m\u001b[0mupdate\u001b[0m\u001b[1;33m(\u001b[0m\u001b[0mpos_medida\u001b[0m\u001b[1;33m[\u001b[0m\u001b[0mi\u001b[0m\u001b[1;33m]\u001b[0m\u001b[1;33m)\u001b[0m\u001b[1;33m\u001b[0m\u001b[1;33m\u001b[0m\u001b[0m\n",
      "\u001b[1;31mNameError\u001b[0m: name 't' is not defined"
     ]
    }
   ],
   "source": [
    "# Initialize the object\n",
    "MYKF = KF(sensor_error, velocity_sigma, position_sigma, dt)\n",
    "\n",
    "# Input the initial values \n",
    "MYKF.initial_values(mu_0, sigma_0)\n",
    "\n",
    "# Call the predict function\n",
    "#mu_bar, sigma_bar = MYKF.predict(u)\n",
    "\n",
    "#print('mu_bar = \\n', mu_bar)\n",
    "#print('sigma_bar = \\n', sigma_bar)\n",
    "b_mu=[]\n",
    "vel_mu=[]\n",
    "b_mu.append(mu_0[0])\n",
    "vel_mu.append(mu_0[1])\n",
    "\n",
    "for i in range(1,t.size):      \n",
    "    mu_bar, sigma_bar = MYKF.predict(u) \n",
    "    mu, sigma= MYKF.update(pos_medida[i])\n",
    "    b_mu.append(mu[0]) #posicion\n",
    "    vel_mu.append(mu[1]) #velocidad\n",
    "            \n",
    "#b_mu\n",
    "\n",
    "\n",
    "\n"
   ]
  },
  {
   "cell_type": "code",
   "execution_count": 29,
   "metadata": {},
   "outputs": [
    {
     "ename": "NameError",
     "evalue": "name 't' is not defined",
     "output_type": "error",
     "traceback": [
      "\u001b[1;31m---------------------------------------------------------------------------\u001b[0m",
      "\u001b[1;31mNameError\u001b[0m                                 Traceback (most recent call last)",
      "\u001b[1;32m<ipython-input-29-53137ce5ab83>\u001b[0m in \u001b[0;36m<module>\u001b[1;34m\u001b[0m\n\u001b[0;32m      2\u001b[0m \u001b[0mfig2\u001b[0m\u001b[1;33m,\u001b[0m \u001b[0max2\u001b[0m \u001b[1;33m=\u001b[0m \u001b[0mplt\u001b[0m\u001b[1;33m.\u001b[0m\u001b[0msubplots\u001b[0m\u001b[1;33m(\u001b[0m\u001b[1;33m)\u001b[0m\u001b[1;33m\u001b[0m\u001b[1;33m\u001b[0m\u001b[0m\n\u001b[0;32m      3\u001b[0m \u001b[0mfig3\u001b[0m\u001b[1;33m,\u001b[0m \u001b[0max3\u001b[0m \u001b[1;33m=\u001b[0m \u001b[0mplt\u001b[0m\u001b[1;33m.\u001b[0m\u001b[0msubplots\u001b[0m\u001b[1;33m(\u001b[0m\u001b[1;33m)\u001b[0m\u001b[1;33m\u001b[0m\u001b[1;33m\u001b[0m\u001b[0m\n\u001b[1;32m----> 4\u001b[1;33m \u001b[0max\u001b[0m\u001b[1;33m.\u001b[0m\u001b[0mplot\u001b[0m\u001b[1;33m(\u001b[0m\u001b[0mt\u001b[0m\u001b[1;33m,\u001b[0m\u001b[0mpos\u001b[0m\u001b[1;33m,\u001b[0m\u001b[1;34m'g+'\u001b[0m\u001b[1;33m)\u001b[0m \u001b[1;31m#funcion\u001b[0m\u001b[1;33m\u001b[0m\u001b[1;33m\u001b[0m\u001b[0m\n\u001b[0m\u001b[0;32m      5\u001b[0m \u001b[0max\u001b[0m\u001b[1;33m.\u001b[0m\u001b[0mplot\u001b[0m\u001b[1;33m(\u001b[0m\u001b[0mt\u001b[0m\u001b[1;33m,\u001b[0m\u001b[0mpos_medida\u001b[0m\u001b[1;33m,\u001b[0m\u001b[1;34m'y'\u001b[0m\u001b[1;33m)\u001b[0m\u001b[1;31m#medicion del sensor\u001b[0m\u001b[1;33m\u001b[0m\u001b[1;33m\u001b[0m\u001b[0m\n\u001b[0;32m      6\u001b[0m \u001b[0max2\u001b[0m\u001b[1;33m.\u001b[0m\u001b[0mplot\u001b[0m\u001b[1;33m(\u001b[0m\u001b[0mt\u001b[0m\u001b[1;33m,\u001b[0m\u001b[0mpos\u001b[0m\u001b[1;33m,\u001b[0m\u001b[1;34m'g+'\u001b[0m\u001b[1;33m)\u001b[0m \u001b[1;31m#funcion\u001b[0m\u001b[1;33m\u001b[0m\u001b[1;33m\u001b[0m\u001b[0m\n",
      "\u001b[1;31mNameError\u001b[0m: name 't' is not defined"
     ]
    },
    {
     "data": {
      "image/png": "[encoded data removed]",
      "text/plain": [
       "<Figure size 432x288 with 1 Axes>"
      ]
     },
     "metadata": {
      "image/png": {
       "height": 252,
       "width": 380
      },
      "needs_background": "light"
     },
     "output_type": "display_data"
    },
    {
     "data": {
      "image/png": "[encoded data removed]",
      "text/plain": [
       "<Figure size 432x288 with 1 Axes>"
      ]
     },
     "metadata": {
      "image/png": {
       "height": 252,
       "width": 380
      },
      "needs_background": "light"
     },
     "output_type": "display_data"
    },
    {
     "data": {
      "image/png": "[encoded data removed]",
      "text/plain": [
       "<Figure size 432x288 with 1 Axes>"
      ]
     },
     "metadata": {
      "image/png": {
       "height": 252,
       "width": 380
      },
      "needs_background": "light"
     },
     "output_type": "display_data"
    }
   ],
   "source": [
    "fig, ax = plt.subplots()\n",
    "fig2, ax2 = plt.subplots()\n",
    "fig3, ax3 = plt.subplots()\n",
    "ax.plot(t,pos,'g+') #funcion\n",
    "ax.plot(t,pos_medida,'y')#medicion del sensor\n",
    "ax2.plot(t,pos,'g+') #funcion\n",
    "ax2.plot(t,b_mu,'m')#filtro de kalman\n",
    "ax3.plot(t,pos_medida,'g+') #medicion del sensor\n",
    "ax3.plot(t,b_mu,'y')#kalman filter\n",
    "#ax.plot(t,vel_mu,'b')\n",
    "\n",
    "\n",
    "ax.grid(True)\n",
    "ax2.grid(True)\n",
    "ax3.grid(True)\n",
    "ax.legend( ('Parabolic shot','Medicion del sensor'), loc = 'upper right')\n",
    "plt.xlabel(\"Posición en metros\", fontsize = 15)\n",
    "plt.ylabel(\"Tiempo en segundos\", fontsize = 15)\n",
    "ax2.legend( ('Parabolic shot','Kalman Filter'), loc = 'upper right')\n",
    "plt.xlabel(\"Posición en metros\", fontsize = 15)\n",
    "plt.ylabel(\"Tiempo en segundos\", fontsize = 15)\n",
    "ax3.legend( ('Medicion del sensor','Kalman Filter'), loc = 'upper right')\n",
    "plt.xlabel(\"Posición en metros\", fontsize = 15)\n",
    "plt.ylabel(\"Tiempo en segundos\", fontsize = 15)\n",
    "plt.show()"
   ]
  }
 ],
 "metadata": {
  "kernelspec": {
   "display_name": "Python 3",
   "language": "python",
   "name": "python3"
  },
  "language_info": {
   "codemirror_mode": {
    "name": "ipython",
    "version": 3
   },
   "file_extension": ".py",
   "mimetype": "text/x-python",
   "name": "python",
   "nbconvert_exporter": "python",
   "pygments_lexer": "ipython3",
   "version": "3.8.3"
  },
  "widgets": {
   "state": {},
   "version": "1.1.2"
  }
 },
 "nbformat": 4,
 "nbformat_minor": 2
}
